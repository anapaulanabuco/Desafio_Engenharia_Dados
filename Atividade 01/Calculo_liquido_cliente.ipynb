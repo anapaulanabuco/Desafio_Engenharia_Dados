{
 "cells": [
  {
   "cell_type": "code",
   "execution_count": 1,
   "id": "e02931e6",
   "metadata": {},
   "outputs": [],
   "source": [
    "#Bibliotecas\n",
    "from pyspark.sql import SparkSession\n",
    "import pyspark.sql.functions as F\n",
    "import pandas as pd"
   ]
  },
  {
   "cell_type": "code",
   "execution_count": 2,
   "id": "85aec65b",
   "metadata": {},
   "outputs": [],
   "source": [
    "#Definindo arquivos e Variáveis\n",
    "\n",
    "#path = ('C:\\\\Users\\\\Ana\\\\Desktop\\\\Desafio_Engenharia_Dados\\\\Atividade 01\\\\')\n",
    "\n",
    "contrato = ['contrato.csv']\n",
    "transacao = ['transacao.csv']\n",
    "cliente = ['cliente.csv']\n",
    "\n",
    "spark = SparkSession \\\n",
    "    .builder \\\n",
    "    .appName (\"read csv file\") \\\n",
    "    .getOrCreate ()"
   ]
  },
  {
   "cell_type": "code",
   "execution_count": 3,
   "id": "aabb2491",
   "metadata": {},
   "outputs": [],
   "source": [
    "#Lendo Arquivos CSV\n",
    "df_contrato = spark.read.option('header', 'true').option('sep', ';').csv(contrato)\n",
    "df_transacao = spark.read.option('header', 'true').option('sep', ';').csv(transacao)\n",
    "df_cliente = spark.read.option('header', 'true').option('sep', ';').csv(cliente)"
   ]
  },
  {
   "cell_type": "code",
   "execution_count": 4,
   "id": "df5f9cff",
   "metadata": {},
   "outputs": [],
   "source": [
    "#Tratando campos nulos e juntando colunas das tabelas\n",
    "df_tables = df_contrato.join(df_transacao, on='contrato_id', how='inner')\n",
    "df_tables = df_tables.join(df_cliente, on='cliente_id', how='inner')\n",
    "df_tables = df_tables.withColumn(\"percentual_desconto\", \\\n",
    "F.when(F.col(\"percentual_desconto\")==\"null\" ,0)\\\n",
    "                                    .otherwise(F.col(\"percentual_desconto\")))"
   ]
  },
  {
   "cell_type": "code",
   "execution_count": 5,
   "id": "af1a85b5",
   "metadata": {},
   "outputs": [],
   "source": [
    "#Valor total com desconto percentual\n",
    "desc_percentual = (F.col('valor_total')) - (F.col('valor_total') * (F.col('percentual_desconto')/100))"
   ]
  },
  {
   "cell_type": "code",
   "execution_count": 6,
   "id": "8120848d",
   "metadata": {},
   "outputs": [],
   "source": [
    "df_tables = df_tables.withColumn('valor_liquido', desc_percentual)"
   ]
  },
  {
   "cell_type": "code",
   "execution_count": 7,
   "id": "01524177",
   "metadata": {},
   "outputs": [],
   "source": [
    "#Descontando percentual valor liquido\n",
    "valor_final  = (F.col('valor_liquido') * (F.col('percentual')/100))"
   ]
  },
  {
   "cell_type": "code",
   "execution_count": 8,
   "id": "53887130",
   "metadata": {},
   "outputs": [],
   "source": [
    "df_tables = df_tables.withColumn('valor_final', valor_final)"
   ]
  },
  {
   "cell_type": "code",
   "execution_count": 9,
   "id": "60864df1",
   "metadata": {},
   "outputs": [],
   "source": [
    "#Filtrando e agrupando contratos ativos '1' e renomeando nome da coluna 'valor_final'\n",
    "df_soma = df_tables.filter(df_tables.ativo == 1).groupBy(\"nome\").sum(\"valor_final\").withColumnRenamed(\"sum(valor_final)\",\"valor\")"
   ]
  },
  {
   "cell_type": "code",
   "execution_count": 10,
   "id": "9475e7d3",
   "metadata": {},
   "outputs": [],
   "source": [
    "#Tratando valores da coluna 'valor'\n",
    "df_soma = df_soma.select(F.col(\"nome\"),F.round(F.col(\"valor\"), 2)).withColumnRenamed(\"round(valor, 2)\",\"valor\")"
   ]
  },
  {
   "cell_type": "code",
   "execution_count": 11,
   "id": "244cdbed",
   "metadata": {},
   "outputs": [
    {
     "name": "stdout",
     "output_type": "stream",
     "text": [
      "+---------+-------+\n",
      "|     nome|  valor|\n",
      "+---------+-------+\n",
      "|Cliente A|1198.77|\n",
      "|Cliente D|   1.08|\n",
      "+---------+-------+\n",
      "\n"
     ]
    }
   ],
   "source": [
    "df_soma.show()"
   ]
  }
 ],
 "metadata": {
  "kernelspec": {
   "display_name": "Python 3 (ipykernel)",
   "language": "python",
   "name": "python3"
  },
  "language_info": {
   "codemirror_mode": {
    "name": "ipython",
    "version": 3
   },
   "file_extension": ".py",
   "mimetype": "text/x-python",
   "name": "python",
   "nbconvert_exporter": "python",
   "pygments_lexer": "ipython3",
   "version": "3.9.7"
  }
 },
 "nbformat": 4,
 "nbformat_minor": 5
}

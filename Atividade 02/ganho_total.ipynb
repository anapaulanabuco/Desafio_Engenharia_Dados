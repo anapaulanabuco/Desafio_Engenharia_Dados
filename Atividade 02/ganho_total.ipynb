{
 "cells": [
  {
   "cell_type": "code",
   "execution_count": 1,
   "id": "72112994",
   "metadata": {},
   "outputs": [],
   "source": [
    "#Bibliotecas\n",
    "from pyspark.sql import SparkSession\n",
    "import pyspark.sql.functions as F\n",
    "import pandas as pd"
   ]
  },
  {
   "cell_type": "code",
   "execution_count": 2,
   "id": "5b5657a8",
   "metadata": {},
   "outputs": [],
   "source": [
    "#Definindo arquivos e Variáveis\n",
    "\n",
    "#path = ('C:\\\\Users\\\\Ana\\\\Desktop\\\\Desafio_Engenharia_Dados\\\\Atividade 01\\\\')\n",
    "\n",
    "contrato = ['contrato.csv']\n",
    "transacao = ['transacao.csv']\n",
    "cliente = ['cliente.csv']\n",
    "\n",
    "spark = SparkSession \\\n",
    "    .builder \\\n",
    "    .appName (\"read csv file\") \\\n",
    "    .getOrCreate ()"
   ]
  },
  {
   "cell_type": "code",
   "execution_count": 3,
   "id": "3d637c8a",
   "metadata": {},
   "outputs": [],
   "source": [
    "#Lendo Arquivos CSV\n",
    "df_contrato = spark.read.option('header', 'true').option('sep', ';').csv(contrato)\n",
    "df_transacao = spark.read.option('header', 'true').option('sep', ';').csv(transacao)\n",
    "df_cliente = spark.read.option('header', 'true').option('sep', ';').csv(cliente)"
   ]
  },
  {
   "cell_type": "code",
   "execution_count": 4,
   "id": "c4f4ccfb",
   "metadata": {},
   "outputs": [],
   "source": [
    "#Tratando campos nulos e juntando colunas das tabelas\n",
    "df_tables = df_contrato.join(df_transacao, on='contrato_id', how='inner')\n",
    "df_tables = df_tables.join(df_cliente, on='cliente_id', how='inner')\n",
    "df_tables = df_tables.withColumn(\"percentual_desconto\", \\\n",
    "F.when(F.col(\"percentual_desconto\")==\"null\" ,0)\\\n",
    "                                    .otherwise(F.col(\"percentual_desconto\")))"
   ]
  },
  {
   "cell_type": "code",
   "execution_count": 5,
   "id": "cd061ec9",
   "metadata": {},
   "outputs": [],
   "source": [
    "#Valor total com percentual desconto\n",
    "desc_percentual = (F.col('valor_total')) - (F.col('valor_total') * (F.col('percentual_desconto')/100))"
   ]
  },
  {
   "cell_type": "code",
   "execution_count": 6,
   "id": "973f6014",
   "metadata": {},
   "outputs": [],
   "source": [
    "df_tables = df_tables.withColumn('valor_liquido', desc_percentual)"
   ]
  },
  {
   "cell_type": "code",
   "execution_count": 7,
   "id": "eb676676",
   "metadata": {},
   "outputs": [],
   "source": [
    "#Filtrando informações\n",
    "df_soma = df_tables.filter(df_tables.ativo == 1)\\\n",
    "                        .filter(df_tables.valor_total> 1)"
   ]
  },
  {
   "cell_type": "code",
   "execution_count": 8,
   "id": "232ef1c4",
   "metadata": {},
   "outputs": [],
   "source": [
    "df_total = df_soma.select(F.col(\"Valor_liquido\")).groupBy().sum().withColumnRenamed(\"sum(valor_liquido)\",\"valor\")"
   ]
  },
  {
   "cell_type": "code",
   "execution_count": 9,
   "id": "c2dc26d3",
   "metadata": {},
   "outputs": [],
   "source": [
    "#Tratando valores da coluna 'valor'\n",
    "df_total = df_total.select(F.round(F.col(\"valor\"), 2)).withColumnRenamed(\"round(valor, 2)\",\"valor\")"
   ]
  },
  {
   "cell_type": "code",
   "execution_count": 10,
   "id": "0f30e3fb",
   "metadata": {},
   "outputs": [
    {
     "name": "stdout",
     "output_type": "stream",
     "text": [
      "+--------+\n",
      "|   valor|\n",
      "+--------+\n",
      "|59973.46|\n",
      "+--------+\n",
      "\n"
     ]
    }
   ],
   "source": [
    "df_total.show()"
   ]
  }
 ],
 "metadata": {
  "kernelspec": {
   "display_name": "Python 3 (ipykernel)",
   "language": "python",
   "name": "python3"
  },
  "language_info": {
   "codemirror_mode": {
    "name": "ipython",
    "version": 3
   },
   "file_extension": ".py",
   "mimetype": "text/x-python",
   "name": "python",
   "nbconvert_exporter": "python",
   "pygments_lexer": "ipython3",
   "version": "3.9.7"
  }
 },
 "nbformat": 4,
 "nbformat_minor": 5
}
